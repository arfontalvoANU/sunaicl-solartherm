{
 "cells": [
  {
   "cell_type": "code",
   "execution_count": 1,
   "metadata": {},
   "outputs": [
    {
     "name": "stdout",
     "output_type": "stream",
     "text": [
      "Requirement already satisfied: DyMat in /home/karbo/.local/lib/python3.6/site-packages (0.7)\n"
     ]
    }
   ],
   "source": [
    "!pip install --user DyMat"
   ]
  },
  {
   "cell_type": "code",
   "execution_count": null,
   "metadata": {},
   "outputs": [],
   "source": []
  },
  {
   "cell_type": "code",
   "execution_count": 2,
   "metadata": {},
   "outputs": [],
   "source": [
    "import pandas as pd\n",
    "import numpy as np\n",
    "import DyMat as DM\n",
    "from glob import glob\n",
    "\n",
    "import matplotlib.pyplot as plt\n",
    "\n",
    "import bokeh.plotting as bkplt\n",
    "import bokeh.models as bkmdl\n",
    "import bokeh.layouts as bklay\n",
    "import bokeh.palettes as bkpalet #from bokeh.palettes import PuOr\n",
    "import bokeh.transform as bktrans # from bokeh.transform import cumsum"
   ]
  },
  {
   "cell_type": "code",
   "execution_count": 3,
   "metadata": {},
   "outputs": [],
   "source": [
    "def bokeh_multilines(dict_source, columns2plot, index_col, plot_h, plot_w, x_ax_name, y_ax_name, plt_title):\n",
    "    \n",
    "    source = bkmdl.ColumnDataSource(dict_source)\n",
    "    \n",
    "    p = bkplt.figure(x_axis_label=x_ax_name,\n",
    "                     y_axis_label = y_ax_name,\n",
    "                     #x_axis_type= 'datetime',\n",
    "                     plot_height = plot_h, \n",
    "                     plot_width=plot_w,\n",
    "                    title = plt_title)\n",
    "    \n",
    "    plots = []\n",
    "    #colors = ['orange','gray','green','pink','purple','red','cyan','black','blue','yellow','']\n",
    "    colors = (['orange',\n",
    "                'gray',\n",
    "                'Blue',\n",
    "                'BlueViolet', \n",
    "                'Brown', \n",
    "                'CadetBlue', \n",
    "                'Chartreuse', \n",
    "                'Chocolate', \n",
    "                'CornflowerBlue', \n",
    "                'Cornsilk', \n",
    "                'Crimson', \n",
    "                'Cyan', \n",
    "                'DarkBlue', \n",
    "                'DarkCyan', \n",
    "                'DarkGoldenRod']) \n",
    "    for ii in range(len(columns2plot)):\n",
    "        plots.append( p.line(x=index_col,y=columns2plot[ii],color=colors[ii], source=source, line_width=1) )\n",
    "\n",
    "        \n",
    "    legend = bkmdl.Legend(items=[(leg,[plt]) for leg,plt in zip(columns2plot,plots)], location=\"center\")\n",
    "    p.add_layout(legend, 'right')\n",
    "\n",
    "    p.legend.location = \"top_left\" \n",
    "    p.legend.click_policy=\"hide\"\n",
    "        \n",
    "    p.yaxis.formatter = bkmdl.BasicTickFormatter(use_scientific = False)\n",
    "    \n",
    "    return p"
   ]
  },
  {
   "cell_type": "code",
   "execution_count": 4,
   "metadata": {},
   "outputs": [],
   "source": [
    "def bokeh_multiax(dict_source, columns_ax1, columns_ax2, index_col, plot_h, plot_w, x_ax_name, y_ax1_name, y_ax2_name, plt_title):\n",
    "    \n",
    "    source = bkmdl.ColumnDataSource(dict_source)\n",
    "    \n",
    "    p = bkplt.figure(title = plt_title,\n",
    "                     x_axis_label = x_ax_name,\n",
    "                     y_axis_label = y_ax1_name,\n",
    "                     #x_axis_type= 'datetime',\n",
    "                     plot_height = plot_h, \n",
    "                     plot_width = plot_w\n",
    "                    )\n",
    "    \n",
    "    legends = []\n",
    "    plts2leg = []\n",
    "    \n",
    "    colors = (['orange',\n",
    "                'gray',\n",
    "                'Blue',\n",
    "                'BlueViolet', \n",
    "                'Brown', \n",
    "                'CadetBlue', \n",
    "                'Chartreuse', \n",
    "                'Chocolate', \n",
    "                'CornflowerBlue', \n",
    "                'Cornsilk', \n",
    "                'Crimson', \n",
    "                'Cyan', \n",
    "                'DarkBlue', \n",
    "                'DarkCyan', \n",
    "                'DarkGoldenRod'])\n",
    "    \n",
    "    # Bokeh plot\n",
    "    y_overlimit = 0.05 # show y axis below and above y min and max value\n",
    "\n",
    "    # FIRST AXIS\n",
    "    min_y1,max_y1 = ( np.array([np.array(dict_source[columns_ax1[ii]]).min() for ii in range(len(columns_ax1))]).min(),\n",
    "                      np.array([np.array(dict_source[columns_ax1[ii]]).max() for ii in range(len(columns_ax1))]).max() )\n",
    "    \n",
    "    for ii in range(len(columns_ax1)):\n",
    "        plt_tmp = p.line(x=index_col, y=columns_ax1[ii], source=source, line_width=1, color=colors[ii])\n",
    "        legends.append(columns_ax1[ii])\n",
    "        plts2leg.append(plt_tmp)\n",
    "    p.y_range = bkmdl.Range1d(min_y1*(1-y_overlimit), max_y1*(1+y_overlimit))\n",
    "    ii_colorshift = ii + 1\n",
    "    \n",
    "    #bkplt.output_file('./bokeh_res/yaquekea.html', title='hola')\n",
    "    #bkplt.save(p)\n",
    "    \n",
    "    # SECOND AXIS\n",
    "    min_y2,max_y2 = ( np.array([np.array(dict_source[columns_ax2[ii]]).min() for ii in range(len(columns_ax2))]).min(),\n",
    "                      np.array([np.array(dict_source[columns_ax2[ii]]).max() for ii in range(len(columns_ax2))]).max() )\n",
    "    #print([np.array(dict_source[columns_ax2[ii]]).max() for ii in range(len(columns_ax2))])\n",
    "    y2_colrange = 'y2_colrange'\n",
    "    p.extra_y_ranges = {\n",
    "        y2_colrange: bkmdl.Range1d(min_y2*(1-y_overlimit), max_y2*(1+y_overlimit))\n",
    "    }\n",
    "    #print(min_y2,max_y2)\n",
    "    p.add_layout(bkmdl.LinearAxis(y_range_name=y2_colrange,axis_label=y_ax2_name), \"right\")\n",
    "\n",
    "    for ii in range(len(columns_ax2)):\n",
    "        plt_tmp = p.line(x=index_col, y=columns_ax2[ii], source=source, y_range_name=y2_colrange, line_width=2, color=colors[ii_colorshift + ii])\n",
    "        legends.append(columns_ax2[ii])\n",
    "        plts2leg.append(plt_tmp)\n",
    "        \n",
    "    legend = bkmdl.Legend(items=[(leg,[plt]) for leg,plt in zip(legends,plts2leg)], location=\"center\")\n",
    "    p.add_layout(legend, 'right')\n",
    "    \n",
    "    p.xaxis.major_label_orientation = np.pi/4\n",
    "    \n",
    "    return p"
   ]
  },
  {
   "cell_type": "code",
   "execution_count": 10,
   "metadata": {},
   "outputs": [],
   "source": [
    "matfilename = '/home/karbo/CSP/tower_two_tanks/SolarTherm.SaltTwoTanks/SolarTherm.SaltTwoTanks_res.mat'"
   ]
  },
  {
   "cell_type": "code",
   "execution_count": 11,
   "metadata": {},
   "outputs": [],
   "source": [
    "#n_res = 3\n",
    "\n",
    "#d = DM.DyMatFile('../csp_torre_base/csp_torre_res_%d.mat'%(n_res))\n",
    "d = DM.DyMatFile(matfilename)\n",
    "\n",
    "var_names1 = list(d.names(1))\n",
    "var_names1.sort()\n",
    "var_names2 = list(d.names(2))\n",
    "var_names2.sort()\n",
    "#print('block1')\n",
    "#print(var_names1)\n",
    "#print('block2')\n",
    "#print(var_names2)\n",
    "#print(d.nameTree())\n",
    "data_cols = ['P_elec','E_elec',\n",
    "             'receiver.Q_rcv',\n",
    "             'tankHot.W_net','tankCold.W_net',\n",
    "             'heliostatsField.heat.Q_flow',\n",
    "             'controlCold.L_mea','controlHot.L_mea']\n",
    "\n",
    "data_arr = d.getVarArray(data_cols)\n",
    "data_df = pd.DataFrame(data_arr).T\n",
    "data_df.columns = ['time']+data_cols\n",
    "data_df = data_df.set_index('time',False)\n",
    "#print(data_df[data_cols])\n",
    "#plt.figure(figsize=(50,5))\n",
    "#plt.plot(data_df['E_elec'])\n",
    "#plt.figure(figsize=(50,5))\n",
    "#plt.plot(data_df['P_elec'])"
   ]
  },
  {
   "cell_type": "code",
   "execution_count": 12,
   "metadata": {},
   "outputs": [],
   "source": [
    "matfiles = glob('../csp_torre_base/csp_torre_res*.mat')\n",
    "data_cols = ['P_elec','E_elec',\n",
    "             'receiver.Q_rcv',\n",
    "             'tankHot.W_net','tankCold.W_net',\n",
    "             'heliostatsField.heat.Q_flow',\n",
    "             'controlCold.L_mea','controlHot.L_mea']\n",
    "param_cols = ['t_storage','hot_tnk_empty_lb','hot_tnk_empty_ub']"
   ]
  },
  {
   "cell_type": "code",
   "execution_count": 13,
   "metadata": {},
   "outputs": [
    {
     "data": {
      "text/plain": [
       "'/home/karbo/CSP/sunaicl-solartherm/SolarTherm/new_feature_functions/plot_base_res_1.html'"
      ]
     },
     "execution_count": 13,
     "metadata": {},
     "output_type": "execute_result"
    }
   ],
   "source": [
    "#data_df\n",
    "plot_loc_ruta_base = './'\n",
    "\n",
    "nombreplot = 'plot_base_res_1.html'\n",
    "\n",
    "data_dict = data_df.iloc[:].to_dict(orient='list')\n",
    "\n",
    "#columns2plot = ['tankHot.W_net','tankCold.W_net']\n",
    "columns2plot = ['P_elec']\n",
    "#columns2plot = ['E_elec']\n",
    "index_col = 'time'\n",
    "plot_h = 500\n",
    "plot_w = 1500\n",
    "x_ax_name = 'segundos'\n",
    "y_ax_name = 'power'\n",
    "plt_title = 'ploto'\n",
    "p = bokeh_multilines(data_dict,\n",
    "                     columns2plot,\n",
    "                     index_col,\n",
    "                     plot_h,plot_w,\n",
    "                     x_ax_name,y_ax_name,\n",
    "                     plt_title)\n",
    "\n",
    "bkplt.output_file(plot_loc_ruta_base+nombreplot, title='hola')\n",
    "bkplt.save(p)"
   ]
  },
  {
   "cell_type": "code",
   "execution_count": null,
   "metadata": {},
   "outputs": [],
   "source": [
    "plot_loc_ruta_base = './bokeh_res/'\n",
    "\n",
    "#columns2plot = ['tankHot.W_net','tankCold.W_net']\n",
    "columns_ax1 = ['P_elec']\n",
    "columns_ax2 = ['controlCold.L_mea','controlHot.L_mea']\n",
    "index_col = 'time'\n",
    "plot_h = 300\n",
    "plot_w = 1000\n",
    "x_ax_name = 'segundos'\n",
    "y_ax1_name = 'power_e'\n",
    "y_ax2_name = 'power_t'\n",
    "plt_title = 'ploto'\n",
    "\n",
    "max_energias = []\n",
    "for matfile in matfiles:\n",
    "    print(matfile)\n",
    "    d = DM.DyMatFile(matfile)\n",
    "    param_arr = d.getVarArray(param_cols)\n",
    "    data_arr = d.getVarArray(data_cols)\n",
    "    data_df = pd.DataFrame(data_arr).T\n",
    "    data_df.columns = ['time']+data_cols\n",
    "    data_df = data_df.set_index('time',False)\n",
    "    \n",
    "    data_dict = data_df.iloc[:].to_dict(orient='list')\n",
    "    \n",
    "    p = bokeh_multiax(data_dict,\n",
    "                      columns_ax1,\n",
    "                      columns_ax2,\n",
    "                      index_col,\n",
    "                      plot_h,plot_w,\n",
    "                      x_ax_name,y_ax1_name,y_ax2_name,\n",
    "                      plt_title)\n",
    "    nombreplot = 'res_t-sto%d_ht-tnk-mpty_lb%d_tnk-mpty_ub%d.html'%(int(param_arr[1,0]),\n",
    "                                                                    int(param_arr[2,0]),\n",
    "                                                                    int(param_arr[3,0]))\n",
    "    max_energias.append(data_df['E_elec'].max())\n",
    "    bkplt.output_file(plot_loc_ruta_base+nombreplot, title='hola')\n",
    "    bkplt.save(p)\n",
    "    print(plot_loc_ruta_base+nombreplot)\n",
    "    "
   ]
  },
  {
   "cell_type": "code",
   "execution_count": null,
   "metadata": {},
   "outputs": [],
   "source": [
    "np.where(np.array(max_energias) == np.amax(np.array(max_energias)))"
   ]
  },
  {
   "cell_type": "code",
   "execution_count": null,
   "metadata": {},
   "outputs": [],
   "source": [
    "2.77778e-7*np.amin(np.array(max_energias))"
   ]
  },
  {
   "cell_type": "code",
   "execution_count": null,
   "metadata": {},
   "outputs": [],
   "source": []
  }
 ],
 "metadata": {
  "kernelspec": {
   "display_name": "Python 3",
   "language": "python",
   "name": "python3"
  },
  "language_info": {
   "codemirror_mode": {
    "name": "ipython",
    "version": 3
   },
   "file_extension": ".py",
   "mimetype": "text/x-python",
   "name": "python",
   "nbconvert_exporter": "python",
   "pygments_lexer": "ipython3",
   "version": "3.7.4"
  }
 },
 "nbformat": 4,
 "nbformat_minor": 4
}
