{
 "cells": [
  {
   "cell_type": "code",
   "execution_count": 47,
   "metadata": {},
   "outputs": [],
   "source": [
    "import pandas as pd\n",
    "import re"
   ]
  },
  {
   "cell_type": "code",
   "execution_count": 24,
   "metadata": {},
   "outputs": [],
   "source": [
    "def csv_OM_format(data_str,table_name):\n",
    "    # recibe un string con  el contenido del csv\n",
    "    row_list = data_str.split('\\n')\n",
    "    motab_str = ''\n",
    "    for ii in range(len(row_list)):\n",
    "        \n",
    "        row = row_list[ii]\n",
    "        row = row.split(',')\n",
    "        if ii == 0:\n",
    "            row[0] = '0.0'\n",
    "            u1dim = len(row_list[1:]) # u[1]  dim\n",
    "            u2dim = len(row[1:])# u[2] dim\n",
    "        row_alnum = re.sub(r'\\W+', '', \"\".join(row))\n",
    "        if not row_alnum.isalnum():\n",
    "            continue\n",
    "        \n",
    "        row = ','.join(row)\n",
    "        motab_str = motab_str + row + '\\n'\n",
    "    motab_str = \"#1\\ndouble %s(%d,%d)\\n%s\"%(table_name,u1dim,u2dim,motab_str)\n",
    "    return motab_str"
   ]
  },
  {
   "cell_type": "code",
   "execution_count": 86,
   "metadata": {},
   "outputs": [],
   "source": [
    "csv_folder = './csv_acciona/'\n",
    "csv_name_in = '/bop_aux_loads.csv'\n",
    "csv_name_out = '/bop_aux_load.motab'\n",
    "\n",
    "with open(csv_folder+csv_name_in, 'r') as file:\n",
    "    data_str = file.read()#.replace('\\n', '')\n",
    "\n",
    "motab_str = csv_OM_format(data_str,'holo')\n",
    "\n",
    "with open(csv_folder+csv_name_out, \"w\") as file:\n",
    "    file.write(motab_str)"
   ]
  }
 ],
 "metadata": {
  "kernelspec": {
   "display_name": "Python 3",
   "language": "python",
   "name": "python3"
  },
  "language_info": {
   "codemirror_mode": {
    "name": "ipython",
    "version": 3
   },
   "file_extension": ".py",
   "mimetype": "text/x-python",
   "name": "python",
   "nbconvert_exporter": "python",
   "pygments_lexer": "ipython3",
   "version": "3.7.4"
  }
 },
 "nbformat": 4,
 "nbformat_minor": 2
}
